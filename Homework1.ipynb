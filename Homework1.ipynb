{
 "cells": [
  {
   "cell_type": "code",
   "execution_count": 1,
   "metadata": {
    "colab": {
     "base_uri": "https://localhost:8080/"
    },
    "id": "jrVeHsm1rpdT",
    "outputId": "a53a054c-39ee-4eaa-d57c-2b1c85b496d3"
   },
   "outputs": [
    {
     "name": "stdout",
     "output_type": "stream",
     "text": [
      "What is your name? Hulisi\n",
      "What is your age? 43\n",
      "Your name is Hulisi. Your age is 43\n"
     ]
    }
   ],
   "source": [
    "#Q1-Get your name and age as input and print it in the form like\n",
    "#Your name is Hulisi. Your age is 43\n",
    "name=input('What is your name? ')\n",
    "age=input('What is your age? ')\n",
    "print('Your name is '+name+'. Your age is '+age)"
   ]
  },
  {
   "cell_type": "code",
   "execution_count": 2,
   "metadata": {
    "colab": {
     "base_uri": "https://localhost:8080/"
    },
    "id": "7Sfg03_PuVWa",
    "outputId": "860f4661-bccc-4917-bd85-b16fd73de153"
   },
   "outputs": [
    {
     "name": "stdout",
     "output_type": "stream",
     "text": [
      "Not equal\n"
     ]
    }
   ],
   "source": [
    "#Q2-Write a if statement for a given two number is equal or not\n",
    "a=43\n",
    "b=54\n",
    "if a==b:\n",
    "  print(\"a and b are equal\")\n",
    "else:\n",
    "  print('Not equal')"
   ]
  },
  {
   "cell_type": "code",
   "execution_count": 3,
   "metadata": {
    "colab": {
     "base_uri": "https://localhost:8080/"
    },
    "id": "NtUibZ07u5gs",
    "outputId": "a4ab6755-f5c7-4ac3-b094-13eed02ff037"
   },
   "outputs": [
    {
     "name": "stdout",
     "output_type": "stream",
     "text": [
      "a is less than b\n"
     ]
    }
   ],
   "source": [
    "#Q3-Write a if statement for first number is greater (a), equal or less than second number.(b)\n",
    "a=43\n",
    "b=54\n",
    "if a>b:\n",
    "  print(\"a is greater than b\")\n",
    "elif a<b:\n",
    "  print('a is less than b')\n",
    "else:\n",
    "  print(\"a and b are equal\")"
   ]
  },
  {
   "cell_type": "code",
   "execution_count": 4,
   "metadata": {
    "colab": {
     "base_uri": "https://localhost:8080/"
    },
    "id": "U1UMQv36wNHP",
    "outputId": "6d31f3fa-64f8-4a02-8042-c4d16ccb7e22"
   },
   "outputs": [
    {
     "name": "stdout",
     "output_type": "stream",
     "text": [
      "1\n",
      "2\n",
      "3\n",
      "4\n",
      "5\n"
     ]
    }
   ],
   "source": [
    "#Q4- Using for loop, print 1,2,3,4,5\n",
    "for k in range(1,6):\n",
    "  print(k)"
   ]
  },
  {
   "cell_type": "code",
   "execution_count": 5,
   "metadata": {
    "colab": {
     "base_uri": "https://localhost:8080/"
    },
    "id": "bh5Lga7XxGY8",
    "outputId": "18795e3b-a96d-4afa-966f-32e61d1c58bc"
   },
   "outputs": [
    {
     "name": "stdout",
     "output_type": "stream",
     "text": [
      "5\n",
      "4\n",
      "3\n",
      "2\n",
      "1\n"
     ]
    }
   ],
   "source": [
    "#Q5-Using while loop, print 5,4,3,2,1\n",
    "a=5\n",
    "while a>0:\n",
    "  print(a)\n",
    "  a=a-1"
   ]
  },
  {
   "cell_type": "code",
   "execution_count": 6,
   "metadata": {
    "colab": {
     "base_uri": "https://localhost:8080/"
    },
    "id": "cXTTDS49xSoi",
    "outputId": "9e3c94eb-4025-4a73-d737-20b535ba361e"
   },
   "outputs": [
    {
     "name": "stdout",
     "output_type": "stream",
     "text": [
      "10\n",
      "6\n",
      "4\n",
      "2\n",
      "0\n"
     ]
    }
   ],
   "source": [
    "#Q6- Using for loop, print 10,6,4,2,0\n",
    "#Hint Print if number is not equal to 8.\n",
    "for i in range (10,-1,-2):\n",
    "  if i!=8:\n",
    "    print(i)"
   ]
  },
  {
   "cell_type": "code",
   "execution_count": 7,
   "metadata": {
    "colab": {
     "base_uri": "https://localhost:8080/"
    },
    "id": "geUjb-vuyYbF",
    "outputId": "9f537739-69ca-4667-a2ff-d30b36d01108"
   },
   "outputs": [
    {
     "name": "stdout",
     "output_type": "stream",
     "text": [
      "79\n"
     ]
    }
   ],
   "source": [
    "#Q7-Write a method to calculate age for a given date of birth year.\n",
    "#Use this method on orer to calculate age of person if date of birth is 1944\n",
    "# if age is the name of function, print(age(1944))\n",
    "def age(a):\n",
    "  print(2023-a)\n",
    "\n",
    "age(1944)\n"
   ]
  },
  {
   "cell_type": "code",
   "execution_count": 8,
   "metadata": {
    "colab": {
     "base_uri": "https://localhost:8080/"
    },
    "id": "YcyFzE3fzC7_",
    "outputId": "42d8749c-3804-4441-d45c-7fe9e0bf1cec"
   },
   "outputs": [
    {
     "data": {
      "text/plain": [
       "0.75"
      ]
     },
     "execution_count": 8,
     "metadata": {},
     "output_type": "execute_result"
    }
   ],
   "source": [
    "#Q8-Write a class named arithmetic with method for calculating addition, substraction, multiplication and division of two numbers.\n",
    "class arithmetic:\n",
    "  def addition(x,y):\n",
    "    return x+y\n",
    "  def substraction(x,y):\n",
    "    return x-y\n",
    "  def multiplication(x,y):\n",
    "    return x*y\n",
    "  def division(x,y):\n",
    "    return x/y\n",
    "arithmetic.division(3,4)"
   ]
  },
  {
   "cell_type": "code",
   "execution_count": 9,
   "metadata": {
    "colab": {
     "base_uri": "https://localhost:8080/"
    },
    "id": "AUJWr5YqzadI",
    "outputId": "97a296e2-8846-471b-e133-66f3327b7434"
   },
   "outputs": [
    {
     "name": "stdout",
     "output_type": "stream",
     "text": [
      "3\n",
      "Summation is: 6\n"
     ]
    }
   ],
   "source": [
    "#Q9- write a for loop or method  to calculate summation of first n numbers\n",
    "#i.e if n=3, it will print or return 6 (1+2+3)\n",
    "sum=0\n",
    "n=int(input())+1\n",
    "for i in range(n):\n",
    "  sum=sum+i\n",
    "print('Summation is:',sum)\n"
   ]
  },
  {
   "cell_type": "code",
   "execution_count": 10,
   "metadata": {
    "colab": {
     "base_uri": "https://localhost:8080/",
     "height": 224
    },
    "id": "hmtvJdCL02qx",
    "outputId": "529f2734-42e2-4f0d-9566-0a076f22d90f"
   },
   "outputs": [
    {
     "data": {
      "text/plain": [
       "[0.5214466730553304, 0.20071215097077055, 0.6583921792307542]"
      ]
     },
     "execution_count": 10,
     "metadata": {},
     "output_type": "execute_result"
    }
   ],
   "source": [
    "#Q10-Generate 10 numbers between 0 and 1 and add into list. Print first three elements of that list. \n",
    "import random \n",
    "\n",
    "list=[]\n",
    "for i in range(10):\n",
    "    list.append(random.random())\n",
    "    \n",
    "list[:3]"
   ]
  },
  {
   "cell_type": "code",
   "execution_count": 11,
   "metadata": {
    "colab": {
     "base_uri": "https://localhost:8080/"
    },
    "id": "5O6Y2CujcAAs",
    "outputId": "15a510c8-4716-484d-fd50-03ba06990d96"
   },
   "outputs": [
    {
     "name": "stdout",
     "output_type": "stream",
     "text": [
      "3\n",
      "6\n",
      "9\n",
      "12\n",
      "15\n"
     ]
    }
   ],
   "source": [
    "#Q11-For a given number n, print numbers divisible by 3 up to that number(n included)\n",
    "#Example: if n=15, print 3,6,9,12,15\n",
    "#Hint you can use modulus statement (if (i%3==0))\n",
    "n=15\n",
    "for i in range(1,n+1):\n",
    "  if i%3==0:\n",
    "    print(i)"
   ]
  }
 ],
 "metadata": {
  "colab": {
   "name": "Homework1.ipynb",
   "provenance": []
  },
  "kernelspec": {
   "display_name": "Python 3 (ipykernel)",
   "language": "python",
   "name": "python3"
  },
  "language_info": {
   "codemirror_mode": {
    "name": "ipython",
    "version": 3
   },
   "file_extension": ".py",
   "mimetype": "text/x-python",
   "name": "python",
   "nbconvert_exporter": "python",
   "pygments_lexer": "ipython3",
   "version": "3.9.12"
  }
 },
 "nbformat": 4,
 "nbformat_minor": 1
}
