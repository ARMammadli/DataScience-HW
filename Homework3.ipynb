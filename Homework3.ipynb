{
 "cells": [
  {
   "cell_type": "code",
   "execution_count": 1,
   "metadata": {
    "id": "hTfxaTM5jqZY"
   },
   "outputs": [],
   "source": [
    "import pandas as pd\n",
    "import numpy as np\n",
    "import matplotlib.pyplot as plt\n",
    "import seaborn as sns\n",
    "\n",
    "from sklearn.model_selection import train_test_split\n",
    "\n",
    "from sklearn.linear_model import LinearRegression, Ridge, Lasso\n",
    "from sklearn.tree import DecisionTreeRegressor\n",
    "from sklearn.ensemble import RandomForestRegressor"
   ]
  },
  {
   "cell_type": "code",
   "execution_count": 2,
   "metadata": {
    "id": "T8jnje1Il-St"
   },
   "outputs": [],
   "source": [
    "#Q1-Read the data https://raw.githubusercontent.com/ogut77/DataScience/main/data/diamond.csv\n",
    "df = pd.read_csv('https://raw.githubusercontent.com/ogut77/DataScience/main/data/diamond.csv')"
   ]
  },
  {
   "cell_type": "markdown",
   "metadata": {
    "id": "BuaIQNSwKfh7"
   },
   "source": [
    "The description of dataset is given below.\n",
    "\n",
    "•\tID: Uniquely identifies each observation (diamond)\n",
    "\n",
    "•\tCarat Weight: The weight of the diamond in metric carats. One carat is equal to 0.2 grams, roughly the same weight as a paperclip\n",
    "\n",
    "•\tCut: One of five values indicating the cut of the diamond in the following order of desirability (Signature-Ideal, Ideal, Very Good, Good, Fair)\n",
    "\n",
    "•\tColor: One of six values indicating the diamond's color in the following order of desirability (D, E, F - Colorless, G, H, I - Near colorless)\n",
    "\n",
    "•\tClarity: One of seven values indicating the diamond's clarity in the following order of desirability (F - Flawless, IF - Internally Flawless, VVS1 or VVS2 - Very, Very Slightly Included, or VS1 or VS2 - Very Slightly Included, SI1 - Slightly Included)\n",
    "\n",
    "•\tPolish: One of four values indicating the diamond's polish (ID - Ideal, EX - Excellent, VG - Very Good, G - Good)\n",
    "\n",
    "•\tSymmetry: One of four values indicating the diamond's symmetry (ID - Ideal, EX - Excellent, VG - Very Good, G - Good)\n",
    "\n",
    "•\tReport: One of of two values \"AGSL\" or \"GIA\" indicating which grading agency reported the qualities of the diamond qualities\n",
    "\n",
    "•\tPrice: The The amount in USD that the diamond is valued\n"
   ]
  },
  {
   "cell_type": "code",
   "execution_count": 3,
   "metadata": {
    "colab": {
     "base_uri": "https://localhost:8080/",
     "height": 206
    },
    "id": "3tA-6vOnlW-V",
    "outputId": "7a30a798-9d6a-4f89-966b-cfb4e937b6c2"
   },
   "outputs": [
    {
     "data": {
      "text/html": [
       "<div>\n",
       "<style scoped>\n",
       "    .dataframe tbody tr th:only-of-type {\n",
       "        vertical-align: middle;\n",
       "    }\n",
       "\n",
       "    .dataframe tbody tr th {\n",
       "        vertical-align: top;\n",
       "    }\n",
       "\n",
       "    .dataframe thead th {\n",
       "        text-align: right;\n",
       "    }\n",
       "</style>\n",
       "<table border=\"1\" class=\"dataframe\">\n",
       "  <thead>\n",
       "    <tr style=\"text-align: right;\">\n",
       "      <th></th>\n",
       "      <th>Carat Weight</th>\n",
       "      <th>Cut</th>\n",
       "      <th>Color</th>\n",
       "      <th>Clarity</th>\n",
       "      <th>Polish</th>\n",
       "      <th>Symmetry</th>\n",
       "      <th>Report</th>\n",
       "      <th>Price</th>\n",
       "    </tr>\n",
       "  </thead>\n",
       "  <tbody>\n",
       "    <tr>\n",
       "      <th>0</th>\n",
       "      <td>1.10</td>\n",
       "      <td>Ideal</td>\n",
       "      <td>H</td>\n",
       "      <td>SI1</td>\n",
       "      <td>VG</td>\n",
       "      <td>EX</td>\n",
       "      <td>GIA</td>\n",
       "      <td>5169</td>\n",
       "    </tr>\n",
       "    <tr>\n",
       "      <th>1</th>\n",
       "      <td>0.83</td>\n",
       "      <td>Ideal</td>\n",
       "      <td>H</td>\n",
       "      <td>VS1</td>\n",
       "      <td>ID</td>\n",
       "      <td>ID</td>\n",
       "      <td>AGSL</td>\n",
       "      <td>3470</td>\n",
       "    </tr>\n",
       "  </tbody>\n",
       "</table>\n",
       "</div>"
      ],
      "text/plain": [
       "   Carat Weight    Cut Color Clarity Polish Symmetry Report  Price\n",
       "0          1.10  Ideal     H     SI1     VG       EX    GIA   5169\n",
       "1          0.83  Ideal     H     VS1     ID       ID   AGSL   3470"
      ]
     },
     "execution_count": 3,
     "metadata": {},
     "output_type": "execute_result"
    }
   ],
   "source": [
    "#Q2-Get first 2 rows of data\n",
    "df.head(2)"
   ]
  },
  {
   "cell_type": "code",
   "execution_count": 4,
   "metadata": {
    "colab": {
     "base_uri": "https://localhost:8080/"
    },
    "id": "Km0DpQwUIj7O",
    "outputId": "9b9dac09-56cb-48c8-f2b4-d5d536ed5e26"
   },
   "outputs": [
    {
     "data": {
      "text/plain": [
       "Carat Weight    0\n",
       "Cut             0\n",
       "Color           0\n",
       "Clarity         0\n",
       "Polish          0\n",
       "Symmetry        0\n",
       "Report          0\n",
       "Price           0\n",
       "dtype: int64"
      ]
     },
     "execution_count": 4,
     "metadata": {},
     "output_type": "execute_result"
    }
   ],
   "source": [
    "#Q3-Check if there is missing value\n",
    "df.isnull().sum()"
   ]
  },
  {
   "cell_type": "code",
   "execution_count": 5,
   "metadata": {
    "colab": {
     "base_uri": "https://localhost:8080/"
    },
    "id": "GzdD_OQYlmQ5",
    "outputId": "d3613ed1-13fa-4c5c-f252-d1d5857df17f"
   },
   "outputs": [
    {
     "name": "stdout",
     "output_type": "stream",
     "text": [
      "<class 'pandas.core.frame.DataFrame'>\n",
      "RangeIndex: 6000 entries, 0 to 5999\n",
      "Data columns (total 8 columns):\n",
      " #   Column        Non-Null Count  Dtype  \n",
      "---  ------        --------------  -----  \n",
      " 0   Carat Weight  6000 non-null   float64\n",
      " 1   Cut           6000 non-null   object \n",
      " 2   Color         6000 non-null   object \n",
      " 3   Clarity       6000 non-null   object \n",
      " 4   Polish        6000 non-null   object \n",
      " 5   Symmetry      6000 non-null   object \n",
      " 6   Report        6000 non-null   object \n",
      " 7   Price         6000 non-null   int64  \n",
      "dtypes: float64(1), int64(1), object(6)\n",
      "memory usage: 375.1+ KB\n"
     ]
    }
   ],
   "source": [
    "#Q4- Get data information and number of rows and columns\n",
    "df.info()"
   ]
  },
  {
   "cell_type": "code",
   "execution_count": 18,
   "metadata": {
    "colab": {
     "base_uri": "https://localhost:8080/",
     "height": 300
    },
    "id": "qdmnS0TlmE8U",
    "outputId": "3624f442-3a29-4c8b-f613-0817d4958aff"
   },
   "outputs": [
    {
     "data": {
      "text/html": [
       "<div>\n",
       "<style scoped>\n",
       "    .dataframe tbody tr th:only-of-type {\n",
       "        vertical-align: middle;\n",
       "    }\n",
       "\n",
       "    .dataframe tbody tr th {\n",
       "        vertical-align: top;\n",
       "    }\n",
       "\n",
       "    .dataframe thead th {\n",
       "        text-align: right;\n",
       "    }\n",
       "</style>\n",
       "<table border=\"1\" class=\"dataframe\">\n",
       "  <thead>\n",
       "    <tr style=\"text-align: right;\">\n",
       "      <th></th>\n",
       "      <th>Carat Weight</th>\n",
       "      <th>Price</th>\n",
       "    </tr>\n",
       "  </thead>\n",
       "  <tbody>\n",
       "    <tr>\n",
       "      <th>count</th>\n",
       "      <td>6000.000000</td>\n",
       "      <td>6000.000000</td>\n",
       "    </tr>\n",
       "    <tr>\n",
       "      <th>mean</th>\n",
       "      <td>1.334520</td>\n",
       "      <td>11791.579333</td>\n",
       "    </tr>\n",
       "    <tr>\n",
       "      <th>std</th>\n",
       "      <td>0.475696</td>\n",
       "      <td>10184.350051</td>\n",
       "    </tr>\n",
       "    <tr>\n",
       "      <th>min</th>\n",
       "      <td>0.750000</td>\n",
       "      <td>2184.000000</td>\n",
       "    </tr>\n",
       "    <tr>\n",
       "      <th>25%</th>\n",
       "      <td>1.000000</td>\n",
       "      <td>5150.500000</td>\n",
       "    </tr>\n",
       "    <tr>\n",
       "      <th>50%</th>\n",
       "      <td>1.130000</td>\n",
       "      <td>7857.000000</td>\n",
       "    </tr>\n",
       "    <tr>\n",
       "      <th>75%</th>\n",
       "      <td>1.590000</td>\n",
       "      <td>15036.500000</td>\n",
       "    </tr>\n",
       "    <tr>\n",
       "      <th>max</th>\n",
       "      <td>2.910000</td>\n",
       "      <td>101561.000000</td>\n",
       "    </tr>\n",
       "  </tbody>\n",
       "</table>\n",
       "</div>"
      ],
      "text/plain": [
       "       Carat Weight          Price\n",
       "count   6000.000000    6000.000000\n",
       "mean       1.334520   11791.579333\n",
       "std        0.475696   10184.350051\n",
       "min        0.750000    2184.000000\n",
       "25%        1.000000    5150.500000\n",
       "50%        1.130000    7857.000000\n",
       "75%        1.590000   15036.500000\n",
       "max        2.910000  101561.000000"
      ]
     },
     "execution_count": 18,
     "metadata": {},
     "output_type": "execute_result"
    }
   ],
   "source": [
    "#Q5-Get descriptive statistics of data\n",
    "df.describe()"
   ]
  },
  {
   "cell_type": "code",
   "execution_count": 7,
   "metadata": {
    "colab": {
     "base_uri": "https://localhost:8080/",
     "height": 286
    },
    "id": "FfK17cCgXW0t",
    "outputId": "0c7f06bb-e3f1-4b40-9a06-83d5a58d7559"
   },
   "outputs": [
    {
     "data": {
      "text/plain": [
       "<AxesSubplot:>"
      ]
     },
     "execution_count": 7,
     "metadata": {},
     "output_type": "execute_result"
    },
    {
     "data": {
      "image/png": "[encoded data removed]",
      "text/plain": [
       "<Figure size 360x360 with 2 Axes>"
      ]
     },
     "metadata": {
      "needs_background": "light"
     },
     "output_type": "display_data"
    }
   ],
   "source": [
    "#Q6-Use seasoborns heat map to generate following heatmap\n",
    "# annot = True to print the correlation inside the square\n",
    "plt.rcParams['figure.figsize']=(5,5)\n",
    "sns.heatmap(df.corr(), vmax=1, vmin=-1, annot=True, linewidths=.8, cmap='YlGnBu')"
   ]
  },
  {
   "cell_type": "code",
   "execution_count": 8,
   "metadata": {
    "colab": {
     "base_uri": "https://localhost:8080/",
     "height": 392
    },
    "id": "DRsXK5YSJchH",
    "outputId": "e59ff919-c2bf-4dbc-bb9c-34be0ca65ce0"
   },
   "outputs": [
    {
     "data": {
      "text/plain": [
       "<seaborn.axisgrid.PairGrid at 0x1dee2218fa0>"
      ]
     },
     "execution_count": 8,
     "metadata": {},
     "output_type": "execute_result"
    },
    {
     "data": {
      "image/png": "[encoded data removed]",
      "text/plain": [
       "<Figure size 360x360 with 6 Axes>"
      ]
     },
     "metadata": {
      "needs_background": "light"
     },
     "output_type": "display_data"
    }
   ],
   "source": [
    "#Q7-Use seasoborns paiplot to generate following  diagram\n",
    "sns.pairplot(df)"
   ]
  },
  {
   "cell_type": "code",
   "execution_count": 9,
   "metadata": {
    "id": "uaRkCQVMOO6J",
    "scrolled": true
   },
   "outputs": [
    {
     "name": "stderr",
     "output_type": "stream",
     "text": [
      "C:\\Users\\abdul\\AppData\\Local\\Temp\\ipykernel_4280\\2906789588.py:2: FutureWarning: In a future version of pandas all arguments of DataFrame.drop except for the argument 'labels' will be keyword-only.\n",
      "  x = df.drop('Price',1)\n"
     ]
    },
    {
     "data": {
      "text/plain": [
       "((6000, 7), (6000,))"
      ]
     },
     "execution_count": 9,
     "metadata": {},
     "output_type": "execute_result"
    }
   ],
   "source": [
    "#Q8-Divide the data so that get Price as ouput variable (Y) and other variables as input varable (X)\n",
    "x = df.drop('Price',1)\n",
    "y = df['Price']\n",
    "\n",
    "x.shape, y.shape"
   ]
  },
  {
   "cell_type": "code",
   "execution_count": 10,
   "metadata": {
    "id": "yOnzVDOaOr7Q"
   },
   "outputs": [
    {
     "data": {
      "text/plain": [
       "(6000, 29)"
      ]
     },
     "execution_count": 10,
     "metadata": {},
     "output_type": "execute_result"
    }
   ],
   "source": [
    "#Q9-Create dummy for the input variables \n",
    "x = pd.get_dummies(x)\n",
    "x.shape"
   ]
  },
  {
   "cell_type": "code",
   "execution_count": 11,
   "metadata": {
    "colab": {
     "base_uri": "https://localhost:8080/"
    },
    "id": "tF8NMbxaO3BQ",
    "outputId": "32d1363a-4f3d-4c27-d990-12bab9e6bb2a",
    "scrolled": true
   },
   "outputs": [],
   "source": [
    "#Q10 -Split the input and output data into two parts: test data (20%) and train data(%80)\n",
    "x_train, x_test, y_train, y_test = train_test_split(x, y, test_size=0.2, random_state=0)\n"
   ]
  },
  {
   "cell_type": "code",
   "execution_count": null,
   "metadata": {
    "id": "rMtQ_dAiRm2C"
   },
   "outputs": [],
   "source": []
  },
  {
   "cell_type": "code",
   "execution_count": 12,
   "metadata": {
    "id": "dguz6T4nSAGe"
   },
   "outputs": [],
   "source": [
    "def evalmetric(y,ypred):\n",
    " import numpy as np\n",
    " e = y - ypred \n",
    " mse_f = np.mean(e**2)\n",
    " rmse_f = np.sqrt(mse_f)\n",
    " mae_f = np.mean(abs(e))\n",
    " mape_f = 100*np.mean(abs(e/y))\n",
    " r2_f = 1-(sum(e**2)/sum((y-np.mean(y))**2))\n",
    " print(\"MSE:\", mse_f)\n",
    " print(\"RMSE:\", rmse_f)\n",
    " print(\"MAE:\",mae_f)\n",
    " print(\"MAPE:\",mape_f)\n",
    " print(\"R-Squared:\", r2_f)"
   ]
  },
  {
   "cell_type": "code",
   "execution_count": 13,
   "metadata": {
    "id": "BgBCwe9gRukQ"
   },
   "outputs": [
    {
     "name": "stdout",
     "output_type": "stream",
     "text": [
      "MSE: 16859840.765833333\n",
      "RMSE: 4106.073643498535\n",
      "MAE: 2598.2625\n",
      "MAPE: 31.793590677930133\n",
      "R-Squared: 0.840310244124822\n"
     ]
    }
   ],
   "source": [
    "#Q11 Use Linear regression to evaluate the performance of test and train data of Linear model  using evalmetric\n",
    "lr_model=LinearRegression()\n",
    "lr_model.fit(x_train, y_train)\n",
    "lr_pred = lr_model.predict(x_test)\n",
    "evalmetric(y_test,lr_pred)"
   ]
  },
  {
   "cell_type": "markdown",
   "metadata": {
    "id": "jhUzCvI_SLJF"
   },
   "source": [
    "Q12 -Based on the performance of test and training model, can we say there is overfitting or not in the performace of liner model?\n",
    "Answer: Yes, based on metrics we can say that modal cannot generalize well on new data."
   ]
  },
  {
   "cell_type": "code",
   "execution_count": 14,
   "metadata": {
    "id": "VNrzaVlFSeUr"
   },
   "outputs": [
    {
     "name": "stdout",
     "output_type": "stream",
     "text": [
      "MSE: 15674675.384726183\n",
      "RMSE: 3959.1255833487\n",
      "MAE: 2414.148974581977\n",
      "MAPE: 28.804623992157318\n",
      "R-Squared: 0.8515356627399402\n"
     ]
    }
   ],
   "source": [
    "#Q13- Use Lasso regression to evaluate the performance of test and train data   using evalmetric\n",
    "lasso_model=Lasso(alpha=1)\n",
    "lasso_model.fit(x_train,y_train)\n",
    "lasso_pred = lasso_model.predict(x_test)\n",
    "evalmetric(y_test,lasso_pred)"
   ]
  },
  {
   "cell_type": "code",
   "execution_count": 15,
   "metadata": {
    "id": "h55W6wA6Tuww"
   },
   "outputs": [
    {
     "name": "stdout",
     "output_type": "stream",
     "text": [
      "MSE: 15667801.154128034\n",
      "RMSE: 3958.25733803754\n",
      "MAE: 2417.8107154511217\n",
      "MAPE: 28.88732244323437\n",
      "R-Squared: 0.8516007727383852\n"
     ]
    }
   ],
   "source": [
    "#Q14 Use Ridge regreesionto evaluate the performance of test and train data   using evalmetric\n",
    "ridge_model=Ridge(alpha=1)\n",
    "ridge_model.fit(x_train,y_train)\n",
    "ridge_pred = ridge_model.predict(x_test)\n",
    "evalmetric(y_test,ridge_pred)"
   ]
  },
  {
   "cell_type": "markdown",
   "metadata": {
    "id": "GwvBE_fgUg02"
   },
   "source": [
    "Q15- Did you get any improvement on test data using Ridge and Lasso?\n",
    "Explain why? \n",
    "Answer: Yes, because lasso and ridge methods peneralize more to make more generalization to predict more accurate on new data. "
   ]
  },
  {
   "cell_type": "code",
   "execution_count": 16,
   "metadata": {
    "id": "d5b6RiZjUeuc"
   },
   "outputs": [
    {
     "name": "stdout",
     "output_type": "stream",
     "text": [
      "MSE: 4364320.494341025\n",
      "RMSE: 2089.095616371119\n",
      "MAE: 959.1534166666663\n",
      "MAPE: 7.296588775036186\n",
      "R-Squared: 0.9586628792061485\n"
     ]
    }
   ],
   "source": [
    "#Q16-Use Decison Tree Regression to evaluate the performance of test and train data   using evalmetric\n",
    "tree_model=DecisionTreeRegressor()\n",
    "tree_model.fit(x_train,y_train)\n",
    "tree_pred = tree_model.predict(x_test)\n",
    "evalmetric(y_test,tree_pred)"
   ]
  },
  {
   "cell_type": "code",
   "execution_count": 17,
   "metadata": {
    "id": "ZEcUQ9fbVJfI"
   },
   "outputs": [
    {
     "name": "stdout",
     "output_type": "stream",
     "text": [
      "MSE: 2106701.606219674\n",
      "RMSE: 1451.4481066230628\n",
      "MAE: 701.1846162128377\n",
      "MAPE: 5.4393155242218105\n",
      "R-Squared: 0.9800461540609078\n"
     ]
    }
   ],
   "source": [
    "#Q17-Use Random Forest to evaluate the performance of test and train data   using evalmetric\n",
    "rf_model=RandomForestRegressor()\n",
    "rf_model.fit(x_train,y_train)\n",
    "rf_pred = rf_model.predict(x_test)\n",
    "evalmetric(y_test,rf_pred)"
   ]
  },
  {
   "cell_type": "markdown",
   "metadata": {
    "id": "QhddVy3qVis7"
   },
   "source": [
    "Q18-Why Random forest perform better than Decison Tree on test data?\n",
    "Answer: Because random forest is ensemble model of Decison Tree. Collect all Decision Tree models and ensemble them into 1 model."
   ]
  },
  {
   "cell_type": "markdown",
   "metadata": {
    "id": "nFNRTXZrVUAt"
   },
   "source": [
    "Q19- Which regression technique among Linear Regresssion, Lasso Regression ,Ridge Regression, Decision Tree and Random Forest  provide best performance on test data?\n",
    "Answer: Based on metrics, Random Forest model is more best performer model."
   ]
  }
 ],
 "metadata": {
  "colab": {
   "name": "Homework3.ipynb",
   "provenance": []
  },
  "kernelspec": {
   "display_name": "Python 3 (ipykernel)",
   "language": "python",
   "name": "python3"
  },
  "language_info": {
   "codemirror_mode": {
    "name": "ipython",
    "version": 3
   },
   "file_extension": ".py",
   "mimetype": "text/x-python",
   "name": "python",
   "nbconvert_exporter": "python",
   "pygments_lexer": "ipython3",
   "version": "3.9.12"
  }
 },
 "nbformat": 4,
 "nbformat_minor": 1
}
